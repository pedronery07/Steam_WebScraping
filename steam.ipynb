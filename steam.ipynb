{
 "cells": [
  {
   "cell_type": "markdown",
   "metadata": {},
   "source": [
    "# PROJETO ANÁLISE - WEB SCRAPING - STEAM"
   ]
  },
  {
   "cell_type": "code",
   "execution_count": 19,
   "metadata": {},
   "outputs": [],
   "source": [
    "# !python3 -m pip install BeautifulSoup4==4.13.3\n",
    "# !python3 -m pip install scikit-learn==1.6.1\n",
    "# !python3 -m pip install selenium==4.29.0\n",
    "# !python3 -m pip install webdriver_manager"
   ]
  },
  {
   "cell_type": "code",
   "execution_count": 426,
   "metadata": {},
   "outputs": [],
   "source": [
    "# Imports necessários\n",
    "import requests\n",
    "import bs4\n",
    "from bs4 import BeautifulSoup\n",
    "import pandas as pd\n",
    "from selenium import webdriver\n",
    "from selenium.webdriver.chrome.options import Options\n",
    "from webdriver_manager.chrome import ChromeDriverManager\n",
    "from selenium.webdriver.chrome.service import Service\n",
    "from selenium.webdriver.common.by import By\n",
    "from functions import *\n",
    "import pprint"
   ]
  },
  {
   "cell_type": "markdown",
   "metadata": {},
   "source": [
    "## Inicializando o driver do Selenium"
   ]
  },
  {
   "cell_type": "code",
   "execution_count": null,
   "metadata": {},
   "outputs": [],
   "source": [
    "# Inicializa o driver do Selenium\n",
    "chrome_options = webdriver.ChromeOptions()\n",
    "# chrome_options.add_argument('--headless') # ensure GUI is off\n",
    "chrome_options.add_argument('--no-sandbox')\n",
    "chrome_options.add_argument('--disable-dev-shm-usage')\n",
    "driver = webdriver.Chrome(service=Service(ChromeDriverManager().install()), options=chrome_options)\n",
    "driver.set_page_load_timeout(60)"
   ]
  },
  {
   "cell_type": "markdown",
   "metadata": {},
   "source": [
    "## Pega informação dos jogos do carrossel principal"
   ]
  },
  {
   "cell_type": "code",
   "execution_count": null,
   "metadata": {},
   "outputs": [],
   "source": [
    "# Pega pagina inicial da Steam\n",
    "url = \"https://store.steampowered.com/\"\n",
    "driver.get(url)\n",
    "driver.implicitly_wait(10)"
   ]
  },
  {
   "cell_type": "code",
   "execution_count": 429,
   "metadata": {},
   "outputs": [
    {
     "name": "stdout",
     "output_type": "stream",
     "text": [
      "{0: {'name': 'Crusader Kings III',\n",
      "     'page': 'https://store.steampowered.com/app/1158310/Crusader_Kings_III/?snr=1_4_4__129_1',\n",
      "     'status': 'Full Release'},\n",
      " 1: {'name': 'EA SPORTS FC™ 25',\n",
      "     'page': 'https://store.steampowered.com/app/2669320/EA_SPORTS_FC_25/?snr=1_4_4__129_2',\n",
      "     'status': 'Full Release'},\n",
      " 2: {'name': 'ELDEN RING NIGHTREIGN',\n",
      "     'page': 'https://store.steampowered.com/app/2622380/ELDEN_RING_NIGHTREIGN/?snr=1_4_4__129_3',\n",
      "     'status': 'Pre-Order'},\n",
      " 3: {'name': 'Path of Exile 2',\n",
      "     'page': 'https://store.steampowered.com/app/2694490/Path_of_Exile_2/?snr=1_4_4__129_4',\n",
      "     'status': 'Early Access'},\n",
      " 4: {'name': 'Call of Duty®: Warzone™',\n",
      "     'page': 'https://store.steampowered.com/app/1962663/Call_of_Duty_Warzone/?snr=1_4_4__129_5',\n",
      "     'status': 'Full Release'},\n",
      " 5: {'name': 'Destiny 2',\n",
      "     'page': 'https://store.steampowered.com/app/1085660/Destiny_2/?snr=1_4_4__129_6',\n",
      "     'status': 'Full Release'},\n",
      " 6: {'name': 'Schedule I',\n",
      "     'page': 'https://store.steampowered.com/app/3164500/Schedule_I/?snr=1_4_4__129_7',\n",
      "     'status': 'Early Access'},\n",
      " 7: {'name': 'Clair Obscur: Expedition 33',\n",
      "     'page': 'https://store.steampowered.com/app/1903340/Clair_Obscur_Expedition_33/?snr=1_4_4__129_8',\n",
      "     'status': 'Full Release'},\n",
      " 8: {'name': 'DARK SOULS™ III',\n",
      "     'page': 'https://store.steampowered.com/app/374320/DARK_SOULS_III/?snr=1_4_4__129_9',\n",
      "     'status': 'Full Release'},\n",
      " 9: {'name': 'Counter-Strike 2',\n",
      "     'page': 'https://store.steampowered.com/app/730/CounterStrike_2/?snr=1_4_4__129_10',\n",
      "     'status': 'Full Release'},\n",
      " 10: {'name': 'The Last of Us™ Part II Remastered',\n",
      "      'page': 'https://store.steampowered.com/app/2531310/The_Last_of_Us_Part_II_Remastered/?snr=1_4_4__129_11',\n",
      "      'status': 'Full Release'},\n",
      " 11: {'name': 'ELDEN RING',\n",
      "      'page': 'https://store.steampowered.com/app/1245620/ELDEN_RING/?snr=1_4_4__129_12',\n",
      "      'status': 'Full Release'}}\n"
     ]
    }
   ],
   "source": [
    "# Inicializa o Beautiful Soup\n",
    "soup = BeautifulSoup(driver.page_source, 'html.parser')\n",
    "\n",
    "carousel_items = {}\n",
    "\n",
    "all_carousel = soup.find_all('a', class_=\"store_main_capsule\")\n",
    "\n",
    "g_id = 0\n",
    "for game in all_carousel:\n",
    "    g_name = game.find('div', class_=\"app_name\").text\n",
    "    g_reason = game.find('div', class_=\"reason\").text\n",
    "    g_status = check_if_available(g_reason)\n",
    "    href = game['href']\n",
    "\n",
    "    carousel_items[g_id] = {\n",
    "        'name': g_name,\n",
    "        'page': href,\n",
    "        'status': g_status,\n",
    "    }\n",
    "\n",
    "    g_id += 1\n",
    "\n",
    "pprint.pp(carousel_items)"
   ]
  },
  {
   "cell_type": "code",
   "execution_count": null,
   "metadata": {},
   "outputs": [],
   "source": [
    "# Função para baixar página\n",
    "def baixar_pagina(url):\n",
    "    url = requests.get(url)\n",
    "    url.encoding = \"utf-8\"\n",
    "    return url.text\n",
    "\n",
    "# Teste\n",
    "url = \"https://store.steampowered.com/\"\n",
    "pagina = baixar_pagina(url)\n",
    "print(pagina)"
   ]
  },
  {
   "cell_type": "code",
   "execution_count": null,
   "metadata": {},
   "outputs": [
    {
     "data": {
      "text/plain": [
       "[]"
      ]
     },
     "execution_count": 430,
     "metadata": {},
     "output_type": "execute_result"
    }
   ],
   "source": [
    "\n",
    "lista_generos = []\n",
    "def extrair_genero(pagina):\n",
    "    soup = BeautifulSoup(pagina, \"html.parser\")\n",
    "    for tag in soup.find_all(\"a\", class_=\"app_tag\"):\n",
    "        lista_generos.append(tag.text.strip(\"\\n\\t\"))\n",
    "    return lista_generos\n",
    "\n",
    "# Teste\n",
    "extrair_genero(pagina)"
   ]
  }
 ],
 "metadata": {
  "kernelspec": {
   "display_name": "AnaliseText",
   "language": "python",
   "name": "python3"
  },
  "language_info": {
   "codemirror_mode": {
    "name": "ipython",
    "version": 3
   },
   "file_extension": ".py",
   "mimetype": "text/x-python",
   "name": "python",
   "nbconvert_exporter": "python",
   "pygments_lexer": "ipython3",
   "version": "3.10.12"
  }
 },
 "nbformat": 4,
 "nbformat_minor": 2
}
