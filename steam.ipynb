{
 "cells": [
  {
   "cell_type": "markdown",
   "metadata": {},
   "source": [
    "**PROJETO ANÁLISE - WEB SCRAPING - STEAM**"
   ]
  },
  {
   "cell_type": "code",
   "execution_count": 4,
   "metadata": {},
   "outputs": [
    {
     "name": "stdout",
     "output_type": "stream",
     "text": [
      "Defaulting to user installation because normal site-packages is not writeable\n",
      "Collecting BeautifulSoup4==4.13.3\n",
      "  Downloading beautifulsoup4-4.13.3-py3-none-any.whl (186 kB)\n",
      "\u001b[2K     \u001b[38;2;114;156;31m━━━━━━━━━━━━━━━━━━━━━━━━━━━━━━━━━━━━━\u001b[0m \u001b[32m186.0/186.0 KB\u001b[0m \u001b[31m450.7 kB/s\u001b[0m eta \u001b[36m0:00:00\u001b[0mm eta \u001b[36m0:00:01\u001b[0m[36m0:00:01\u001b[0m\n",
      "\u001b[?25hRequirement already satisfied: soupsieve>1.2 in /home/ian/.local/lib/python3.10/site-packages (from BeautifulSoup4==4.13.3) (2.6)\n",
      "Requirement already satisfied: typing-extensions>=4.0.0 in /home/ian/.local/lib/python3.10/site-packages (from BeautifulSoup4==4.13.3) (4.12.2)\n",
      "Installing collected packages: BeautifulSoup4\n",
      "  Attempting uninstall: BeautifulSoup4\n",
      "    Found existing installation: beautifulsoup4 4.12.2\n",
      "    Uninstalling beautifulsoup4-4.12.2:\n",
      "      Successfully uninstalled beautifulsoup4-4.12.2\n",
      "Successfully installed BeautifulSoup4-4.13.3\n",
      "Defaulting to user installation because normal site-packages is not writeable\n",
      "Collecting scikit-learn==1.6.1\n",
      "  Downloading scikit_learn-1.6.1-cp310-cp310-manylinux_2_17_x86_64.manylinux2014_x86_64.whl (13.5 MB)\n",
      "\u001b[2K     \u001b[38;2;114;156;31m━━━━━━━━━━━━━━━━━━━━━━━━━━━━━━━━━━━━━━━━\u001b[0m \u001b[32m13.5/13.5 MB\u001b[0m \u001b[31m2.6 MB/s\u001b[0m eta \u001b[36m0:00:00\u001b[0mm eta \u001b[36m0:00:01\u001b[0m[36m0:00:01\u001b[0mm\n",
      "\u001b[?25hRequirement already satisfied: scipy>=1.6.0 in /home/ian/.local/lib/python3.10/site-packages (from scikit-learn==1.6.1) (1.15.2)\n",
      "Requirement already satisfied: numpy>=1.19.5 in /home/ian/.local/lib/python3.10/site-packages (from scikit-learn==1.6.1) (2.1.2)\n",
      "Collecting threadpoolctl>=3.1.0\n",
      "  Downloading threadpoolctl-3.6.0-py3-none-any.whl (18 kB)\n",
      "Collecting joblib>=1.2.0\n",
      "  Downloading joblib-1.5.0-py3-none-any.whl (307 kB)\n",
      "\u001b[2K     \u001b[38;2;114;156;31m━━━━━━━━━━━━━━━━━━━━━━━━━━━━━━━━━━━━━━━\u001b[0m \u001b[32m307.7/307.7 KB\u001b[0m \u001b[31m4.1 MB/s\u001b[0m eta \u001b[36m0:00:00\u001b[0m MB/s\u001b[0m eta \u001b[36m0:00:01\u001b[0m\n",
      "\u001b[?25hInstalling collected packages: threadpoolctl, joblib, scikit-learn\n",
      "Successfully installed joblib-1.5.0 scikit-learn-1.6.1 threadpoolctl-3.6.0\n",
      "Defaulting to user installation because normal site-packages is not writeable\n",
      "Collecting selenium==4.29.0\n",
      "  Downloading selenium-4.29.0-py3-none-any.whl (9.5 MB)\n",
      "\u001b[2K     \u001b[38;2;114;156;31m━━━━━━━━━━━━━━━━━━━━━━━━━━━━━━━━━━━━━━━━\u001b[0m \u001b[32m9.5/9.5 MB\u001b[0m \u001b[31m718.0 kB/s\u001b[0m eta \u001b[36m0:00:00\u001b[0mm eta \u001b[36m0:00:01\u001b[0m[36m0:00:01\u001b[0m\n",
      "\u001b[?25hCollecting trio~=0.17\n",
      "  Downloading trio-0.30.0-py3-none-any.whl (499 kB)\n",
      "\u001b[2K     \u001b[38;2;114;156;31m━━━━━━━━━━━━━━━━━━━━━━━━━━━━━━━━━━━━━━━\u001b[0m \u001b[32m499.2/499.2 KB\u001b[0m \u001b[31m2.1 MB/s\u001b[0m eta \u001b[36m0:00:00\u001b[0m[31m2.4 MB/s\u001b[0m eta \u001b[36m0:00:01\u001b[0m\n",
      "\u001b[?25hRequirement already satisfied: typing_extensions~=4.9 in /home/ian/.local/lib/python3.10/site-packages (from selenium==4.29.0) (4.12.2)\n",
      "Requirement already satisfied: websocket-client~=1.8 in /home/ian/.local/lib/python3.10/site-packages (from selenium==4.29.0) (1.8.0)\n",
      "Requirement already satisfied: urllib3[socks]<3,>=1.26 in /usr/lib/python3/dist-packages (from selenium==4.29.0) (1.26.5)\n",
      "Collecting trio-websocket~=0.9\n",
      "  Downloading trio_websocket-0.12.2-py3-none-any.whl (21 kB)\n",
      "Collecting certifi>=2021.10.8\n",
      "  Using cached certifi-2025.4.26-py3-none-any.whl (159 kB)\n",
      "Requirement already satisfied: attrs>=23.2.0 in /home/ian/.local/lib/python3.10/site-packages (from trio~=0.17->selenium==4.29.0) (25.1.0)\n",
      "Requirement already satisfied: sniffio>=1.3.0 in /home/ian/.local/lib/python3.10/site-packages (from trio~=0.17->selenium==4.29.0) (1.3.1)\n",
      "Requirement already satisfied: idna in /usr/lib/python3/dist-packages (from trio~=0.17->selenium==4.29.0) (3.3)\n",
      "Collecting outcome\n",
      "  Downloading outcome-1.3.0.post0-py2.py3-none-any.whl (10 kB)\n",
      "Requirement already satisfied: exceptiongroup in /home/ian/.local/lib/python3.10/site-packages (from trio~=0.17->selenium==4.29.0) (1.2.2)\n",
      "Collecting sortedcontainers\n",
      "  Downloading sortedcontainers-2.4.0-py2.py3-none-any.whl (29 kB)\n",
      "Collecting wsproto>=0.14\n",
      "  Downloading wsproto-1.2.0-py3-none-any.whl (24 kB)\n",
      "Collecting PySocks!=1.5.7,<2.0,>=1.5.6\n",
      "  Downloading PySocks-1.7.1-py3-none-any.whl (16 kB)\n",
      "Requirement already satisfied: h11<1,>=0.9.0 in /home/ian/.local/lib/python3.10/site-packages (from wsproto>=0.14->trio-websocket~=0.9->selenium==4.29.0) (0.14.0)\n",
      "Installing collected packages: sortedcontainers, wsproto, PySocks, outcome, certifi, trio, trio-websocket, selenium\n",
      "Successfully installed PySocks-1.7.1 certifi-2025.4.26 outcome-1.3.0.post0 selenium-4.29.0 sortedcontainers-2.4.0 trio-0.30.0 trio-websocket-0.12.2 wsproto-1.2.0\n",
      "Defaulting to user installation because normal site-packages is not writeable\n",
      "Collecting webdriver_manager==4.0.2\n",
      "  Downloading webdriver_manager-4.0.2-py2.py3-none-any.whl (27 kB)\n",
      "Requirement already satisfied: packaging in /home/ian/.local/lib/python3.10/site-packages (from webdriver_manager==4.0.2) (24.1)\n",
      "Requirement already satisfied: python-dotenv in /home/ian/.local/lib/python3.10/site-packages (from webdriver_manager==4.0.2) (1.0.0)\n",
      "Requirement already satisfied: requests in /home/ian/.local/lib/python3.10/site-packages (from webdriver_manager==4.0.2) (2.31.0)\n",
      "Requirement already satisfied: idna<4,>=2.5 in /usr/lib/python3/dist-packages (from requests->webdriver_manager==4.0.2) (3.3)\n",
      "Requirement already satisfied: certifi>=2017.4.17 in /home/ian/.local/lib/python3.10/site-packages (from requests->webdriver_manager==4.0.2) (2025.4.26)\n",
      "Requirement already satisfied: urllib3<3,>=1.21.1 in /usr/lib/python3/dist-packages (from requests->webdriver_manager==4.0.2) (1.26.5)\n",
      "Requirement already satisfied: charset-normalizer<4,>=2 in /home/ian/.local/lib/python3.10/site-packages (from requests->webdriver_manager==4.0.2) (3.4.1)\n",
      "Installing collected packages: webdriver_manager\n",
      "Successfully installed webdriver_manager-4.0.2\n"
     ]
    }
   ],
   "source": [
    "!python3 -m pip install BeautifulSoup4==4.13.3\n",
    "!python3 -m pip install scikit-learn==1.6.1\n",
    "!python3 -m pip install selenium==4.29.0\n",
    "!python3 -m pip install webdriver_manager==4.0.2"
   ]
  },
  {
   "cell_type": "code",
   "execution_count": 2,
   "metadata": {},
   "outputs": [],
   "source": [
    "# Imports necessários\n",
    "import requests\n",
    "import bs4\n",
    "from bs4 import BeautifulSoup\n",
    "import pandas as pd\n",
    "from selenium import webdriver\n",
    "from selenium.webdriver.chrome.options import Options\n",
    "from webdriver_manager.chrome import ChromeDriverManager\n",
    "from selenium.webdriver.chrome.service import Service\n",
    "from selenium.webdriver.common.by import By"
   ]
  },
  {
   "cell_type": "code",
   "execution_count": 24,
   "metadata": {},
   "outputs": [
    {
     "data": {
      "text/plain": [
       "['Adventure',\n",
       " 'Co-op',\n",
       " 'Third Person',\n",
       " 'Split Screen',\n",
       " 'Platformer',\n",
       " 'Action',\n",
       " 'Sci-fi',\n",
       " 'Metroidvania',\n",
       " 'Exploration',\n",
       " 'Action-Adventure',\n",
       " 'Comedy',\n",
       " 'Multiplayer',\n",
       " 'Online Co-Op',\n",
       " 'Space',\n",
       " 'Survival',\n",
       " 'Open World',\n",
       " 'Puzzle',\n",
       " 'Colorful',\n",
       " 'Indie',\n",
       " 'Singleplayer']"
      ]
     },
     "execution_count": 24,
     "metadata": {},
     "output_type": "execute_result"
    }
   ],
   "source": [
    "# Função para baixar página\n",
    "def baixar_pagina(url):\n",
    "    url = requests.get(url)\n",
    "    url.encoding = \"utf-8\"\n",
    "    return url.text\n",
    "\n",
    "# Teste\n",
    "pagina = baixar_pagina(\"https://store.steampowered.com/app/2787320/Revenge_of_the_Savage_Planet/?snr=1_4_4__145_1\")\n",
    "\n",
    "\n",
    "lista_generos = []\n",
    "def extrair_genero(pagina):\n",
    "    soup = BeautifulSoup(pagina, \"html.parser\")\n",
    "    for tag in soup.find_all(\"a\", class_=\"app_tag\"):\n",
    "        lista_generos.append(tag.text.strip(\"\\n\\t\"))\n",
    "    return lista_generos\n",
    "\n",
    "# Teste\n",
    "extrair_genero(pagina)"
   ]
  }
 ],
 "metadata": {
  "kernelspec": {
   "display_name": "Python 3",
   "language": "python",
   "name": "python3"
  },
  "language_info": {
   "codemirror_mode": {
    "name": "ipython",
    "version": 3
   },
   "file_extension": ".py",
   "mimetype": "text/x-python",
   "name": "python",
   "nbconvert_exporter": "python",
   "pygments_lexer": "ipython3",
   "version": "3.10.12"
  }
 },
 "nbformat": 4,
 "nbformat_minor": 2
}
