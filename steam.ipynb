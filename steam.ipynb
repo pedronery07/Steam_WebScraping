{
 "cells": [
  {
   "cell_type": "markdown",
   "metadata": {},
   "source": [
    "# PROJETO ANÁLISE - WEB SCRAPING - STEAM"
   ]
  },
  {
   "cell_type": "code",
   "execution_count": 1,
   "metadata": {},
   "outputs": [],
   "source": [
    "# !python3 -m pip install BeautifulSoup4==4.13.3\n",
    "# !python3 -m pip install scikit-learn==1.6.1\n",
    "# !python3 -m pip install selenium==4.29.0\n",
    "# !python3 -m pip install webdriver_manager"
   ]
  },
  {
   "cell_type": "code",
   "execution_count": 1,
   "metadata": {},
   "outputs": [],
   "source": [
    "# Imports necessários\n",
    "import requests\n",
    "import bs4\n",
    "from bs4 import BeautifulSoup\n",
    "import pandas as pd\n",
    "from selenium import webdriver\n",
    "from selenium.webdriver.chrome.options import Options\n",
    "from webdriver_manager.chrome import ChromeDriverManager\n",
    "from selenium.webdriver.chrome.service import Service\n",
    "from selenium.webdriver.common.by import By\n",
    "from functions import *\n",
    "import pprint"
   ]
  },
  {
   "cell_type": "code",
   "execution_count": 2,
   "metadata": {},
   "outputs": [
    {
     "data": {
      "text/plain": [
       "['Souls-like',\n",
       " 'Dark Fantasy',\n",
       " 'RPG',\n",
       " 'Difficult',\n",
       " 'Action',\n",
       " 'Dark',\n",
       " 'Fantasy',\n",
       " 'Atmospheric',\n",
       " 'Great Soundtrack',\n",
       " 'Action RPG',\n",
       " 'Lore-Rich',\n",
       " 'Adventure',\n",
       " 'Multiplayer',\n",
       " 'Exploration',\n",
       " 'Story Rich',\n",
       " 'Third Person',\n",
       " 'Replay Value',\n",
       " 'Character Customization',\n",
       " 'Soundtrack',\n",
       " 'Co-op']"
      ]
     },
     "execution_count": 2,
     "metadata": {},
     "output_type": "execute_result"
    }
   ],
   "source": [
    "# Testando funcionamento da função baixar página para um jogo qualquer\n",
    "url = \"https://store.steampowered.com/app/570940/DARK_SOULS_REMASTERED/\"\n",
    "pagina = baixar_pagina(url)\n",
    "\n",
    "lista_generos = []\n",
    "# Testando funcionamento da função extrair gênero para o mesmo jogo qualquer\n",
    "extrair_genero(pagina, lista_generos)"
   ]
  },
  {
   "cell_type": "markdown",
   "metadata": {},
   "source": [
    "## Inicializando o driver do Selenium"
   ]
  },
  {
   "cell_type": "code",
   "execution_count": 6,
   "metadata": {},
   "outputs": [],
   "source": [
    "# Inicializa o driver do Selenium\n",
    "chrome_options = webdriver.ChromeOptions()\n",
    "# chrome_options.add_argument('--headless') # ensure GUI is off\n",
    "chrome_options.add_argument('--no-sandbox')\n",
    "chrome_options.add_argument('--disable-dev-shm-usage')\n",
    "driver = webdriver.Chrome(service=Service(ChromeDriverManager().install()), options=chrome_options)\n",
    "driver.set_page_load_timeout(60)"
   ]
  },
  {
   "cell_type": "markdown",
   "metadata": {},
   "source": [
    "## Pega informação dos jogos do carrossel principal - \"Destaque\""
   ]
  },
  {
   "cell_type": "code",
   "execution_count": 4,
   "metadata": {},
   "outputs": [],
   "source": [
    "# Pega pagina inicial da Steam\n",
    "url = \"https://store.steampowered.com/\"\n",
    "driver.get(url)\n",
    "driver.implicitly_wait(10)"
   ]
  },
  {
   "cell_type": "code",
   "execution_count": 16,
   "metadata": {},
   "outputs": [
    {
     "name": "stdout",
     "output_type": "stream",
     "text": [
      "{0: {'name': 'DARK SOULS™ III',\n",
      "     'page': 'https://store.steampowered.com/app/374320/DARK_SOULS_III/?snr=1_4_4__129_1',\n",
      "     'status': None},\n",
      " 1: {'name': 'Dota 2',\n",
      "     'page': 'https://store.steampowered.com/app/570/Dota_2/?snr=1_4_4__129_2',\n",
      "     'status': None},\n",
      " 2: {'name': 'ELDEN RING',\n",
      "     'page': 'https://store.steampowered.com/app/1245620/ELDEN_RING/?snr=1_4_4__129_3',\n",
      "     'status': None},\n",
      " 3: {'name': 'Mortal Kombat 1',\n",
      "     'page': 'https://store.steampowered.com/app/1971870/Mortal_Kombat_1/?snr=1_4_4__129_4',\n",
      "     'status': None},\n",
      " 4: {'name': 'GrandChase',\n",
      "     'page': 'https://store.steampowered.com/app/985810/GrandChase/?snr=1_4_4__129_5',\n",
      "     'status': None},\n",
      " 5: {'name': 'Counter-Strike 2',\n",
      "     'page': 'https://store.steampowered.com/app/730/CounterStrike_2/?snr=1_4_4__129_6',\n",
      "     'status': None},\n",
      " 6: {'name': 'EA SPORTS FC™ 25',\n",
      "     'page': 'https://store.steampowered.com/app/2669320/EA_SPORTS_FC_25/?snr=1_4_4__129_7',\n",
      "     'status': None},\n",
      " 7: {'name': 'V Rising',\n",
      "     'page': 'https://store.steampowered.com/app/1604030/V_Rising/?snr=1_4_4__129_8',\n",
      "     'status': None},\n",
      " 8: {'name': 'Destiny 2',\n",
      "     'page': 'https://store.steampowered.com/app/1085660/Destiny_2/?snr=1_4_4__129_9',\n",
      "     'status': None},\n",
      " 9: {'name': 'Diablo® IV',\n",
      "     'page': 'https://store.steampowered.com/app/2344520/Diablo_IV/?snr=1_4_4__129_10',\n",
      "     'status': None},\n",
      " 10: {'name': 'Warframe',\n",
      "      'page': 'https://store.steampowered.com/app/230410/Warframe/?snr=1_4_4__129_11',\n",
      "      'status': None},\n",
      " 11: {'name': 'eFootball™',\n",
      "      'page': 'https://store.steampowered.com/app/1665460/eFootball/?snr=1_4_4__129_12',\n",
      "      'status': None}}\n"
     ]
    }
   ],
   "source": [
    "# Inicializa o Beautiful Soup\n",
    "soup = BeautifulSoup(driver.page_source, 'html.parser')\n",
    "\n",
    "carousel_items = {}\n",
    "\n",
    "all_carousel = soup.find_all('a', class_=\"store_main_capsule\")\n",
    "\n",
    "g_id = 0\n",
    "for game in all_carousel:\n",
    "    g_name = game.find('div', class_=\"app_name\").text\n",
    "    g_reason = game.find('div', class_=\"reason\").text\n",
    "    g_status = check_if_available(g_reason)\n",
    "    href = game['href']\n",
    "\n",
    "    carousel_items[g_id] = {\n",
    "        'name': g_name,\n",
    "        'page': href,\n",
    "        'status': g_status,\n",
    "    }\n",
    "\n",
    "    g_id += 1\n",
    "\n",
    "pprint.pp(carousel_items)"
   ]
  },
  {
   "cell_type": "markdown",
   "metadata": {},
   "source": [
    "## Pega informação dos jogos mais vendidos por país"
   ]
  },
  {
   "cell_type": "code",
   "execution_count": 8,
   "metadata": {},
   "outputs": [],
   "source": [
    "# Pega pagina de jogos mais vendidos globalmente da Steam\n",
    "url_mais_vendidos_global = \"https://store.steampowered.com/charts/topselling/global\"\n",
    "driver.get(url_mais_vendidos_global)\n",
    "driver.implicitly_wait(10)"
   ]
  },
  {
   "cell_type": "code",
   "execution_count": 22,
   "metadata": {},
   "outputs": [
    {
     "data": {
      "text/plain": [
       "{0: 'Counter-Strike 2',\n",
       " 1: 'Steam Deck',\n",
       " 2: 'Clair Obscur: Expedition 33',\n",
       " 3: 'Stellaris',\n",
       " 4: 'DOOM: The Dark Ages',\n",
       " 5: 'Schedule I',\n",
       " 6: 'Cash Cleaner Simulator',\n",
       " 7: 'War Thunder',\n",
       " 8: 'EA SPORTS FC™ 25',\n",
       " 9: 'Aviassembly',\n",
       " 10: 'The Elder Scrolls IV: Oblivion Remastered',\n",
       " 11: 'Stellaris: Ultimate Bundle',\n",
       " 12: 'Dune: Awakening',\n",
       " 13: 'Tower Dominion',\n",
       " 14: 'Crusader Kings III',\n",
       " 15: 'Destiny 2',\n",
       " 16: 'V Rising',\n",
       " 17: 'R.E.P.O.',\n",
       " 18: 'Kingdom Come: Deliverance II',\n",
       " 19: 'Drive Beyond Horizons',\n",
       " 20: 'Hearts of Iron IV',\n",
       " 21: 'Apex Legends™',\n",
       " 22: 'Train Sim World® 5',\n",
       " 23: 'The Sims™ 4',\n",
       " 24: 'Warframe',\n",
       " 25: 'Dead by Daylight',\n",
       " 26: 'Timberborn',\n",
       " 27: 'ELDEN RING NIGHTREIGN',\n",
       " 28: 'The Elder Scrolls® Online',\n",
       " 29: 'Age of Wonders 4',\n",
       " 30: 'STAR WARS Jedi: Survivor™',\n",
       " 31: 'Europa Universalis IV',\n",
       " 32: 'Equinox: Homecoming',\n",
       " 33: 'Drop Duchy',\n",
       " 34: 'THRONE AND LIBERTY',\n",
       " 35: 'Car Mechanic Simulator 2021',\n",
       " 36: 'Balatro',\n",
       " 37: 'FOUNDRY',\n",
       " 38: 'STAR WARS™ Jedi Bundle',\n",
       " 39: 'Split Fiction',\n",
       " 40: \"Baldur's Gate 3\",\n",
       " 41: 'Path of Exile 2',\n",
       " 42: 'RoadCraft',\n",
       " 43: 'Clair Obscur: Expedition 33 + Dead Cells',\n",
       " 44: 'Rust',\n",
       " 45: 'Nordhold',\n",
       " 46: 'Forza Horizon 5',\n",
       " 47: 'Frostpunk 2',\n",
       " 48: \"Tom Clancy's Rainbow Six® Siege\",\n",
       " 49: 'Farming Simulator 25'}"
      ]
     },
     "execution_count": 22,
     "metadata": {},
     "output_type": "execute_result"
    }
   ],
   "source": [
    "# Inicializa o Beautiful Soup\n",
    "soup = BeautifulSoup(driver.page_source, 'html.parser')\n",
    "\n",
    "top50_global = {}\n",
    "\n",
    "all_games = soup.find_all('div', class_=\"_1n_4-zvf0n4aqGEksbgW9N\")\n",
    "\n",
    "limite = 50\n",
    "for i, game in enumerate(all_games[:limite]):\n",
    "    top50_global[i] = game.text\n",
    "top50_global"
   ]
  },
  {
   "cell_type": "code",
   "execution_count": null,
   "metadata": {},
   "outputs": [],
   "source": []
  }
 ],
 "metadata": {
  "kernelspec": {
   "display_name": "env",
   "language": "python",
   "name": "python3"
  },
  "language_info": {
   "codemirror_mode": {
    "name": "ipython",
    "version": 3
   },
   "file_extension": ".py",
   "mimetype": "text/x-python",
   "name": "python",
   "nbconvert_exporter": "python",
   "pygments_lexer": "ipython3",
   "version": "3.12.4"
  }
 },
 "nbformat": 4,
 "nbformat_minor": 2
}
